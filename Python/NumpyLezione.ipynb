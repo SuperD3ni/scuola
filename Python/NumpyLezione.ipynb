{
 "cells": [
  {
   "cell_type": "markdown",
   "id": "b8ebe308-3f31-4d08-a455-4a3a7db20cfc",
   "metadata": {},
   "source": [
    "NumPy: Il Motore Matematico di Python"
   ]
  },
  {
   "cell_type": "markdown",
   "id": "654b853e-de75-41e4-8d89-bffe492ced35",
   "metadata": {},
   "source": [
    "Dopo aver visto come organizzare e analizzare dati con Pandas, facciamo un passo indietro per scoprire la libreria che rende tutto questo possibile: NumPy.\n",
    "\n",
    "Se Pandas è il vostro foglio di calcolo potenziato, NumPy è la calcolatrice scientifica ultra-veloce su cui si basa. È il cuore pulsante di quasi tutto l'ecosistema di data science in Python.\n",
    "\n",
    "NumPy (abbreviazione di Numerical Python) è la libreria fondamentale per il calcolo numerico in Python. Il suo oggetto principale è il potente ndarray (N-dimensional array), una struttura dati che permette di memorizzare e operare su grandi insiemi di dati numerici in modo estremamente efficiente.\n",
    "\n",
    "Perché non usare semplicemente le liste di Python?\n",
    "\n",
    "Le liste di Python sono flessibili ma lente per le operazioni matematiche su larga scala. NumPy è meglio per tre motivi principali:\n",
    "\n",
    "    Velocità: Le operazioni matematiche in NumPy possono essere fino a 100 volte più veloci rispetto alle liste Python, perché il codice sottostante è scritto in C, un linguaggio a basso livello molto più rapido.\n",
    "\n",
    "    Efficienza di Memoria: Gli array di NumPy occupano meno spazio in memoria rispetto alle liste.\n",
    "\n",
    "    Convenienza: Offre una vasta collezione di funzioni matematiche e algebriche già pronte all'uso.\n",
    "\n",
    "2. Installazione e Importazione\n",
    "\n",
    "Come per Pandas, l'installazione è immediata tramite pip:\n",
    "\n",
    "pip install numpy\n",
    "\n",
    "E l'importazione segue una convenzione standard, usando l'alias np:"
   ]
  },
  {
   "cell_type": "code",
   "execution_count": 2,
   "id": "851617d0-b243-49bb-b16b-9bb3871331e5",
   "metadata": {},
   "outputs": [],
   "source": [
    "import numpy as np"
   ]
  },
  {
   "cell_type": "markdown",
   "id": "beae27d8-5cb1-4c6b-a4aa-326027e598e1",
   "metadata": {},
   "source": [
    " import numpy carica la libreria e as np crea un \"soprannome\" per richiamare le sue funzioni in modo più conciso (es. np.array()).\n",
    "3. L'Oggetto ndarray: \n",
    "\n",
    "Tutto in NumPy ruota attorno al suo oggetto array. Creiamone uno a partire da una lista Python per vedere com'è fatto."
   ]
  },
  {
   "cell_type": "code",
   "execution_count": 4,
   "id": "e542a16d-c202-41b0-9fea-c6128c05861a",
   "metadata": {},
   "outputs": [
    {
     "name": "stdout",
     "output_type": "stream",
     "text": [
      "Tipo di dato: <class 'numpy.ndarray'>\n",
      "L'array: [10 20 30 40 50]\n"
     ]
    }
   ],
   "source": [
    "# Una semplice lista Python\n",
    "lista_dati = [10, 20, 30, 40, 50]\n",
    "\n",
    "# Creiamo un array NumPy da questa lista\n",
    "array_1d = np.array(lista_dati)\n",
    "\n",
    "print(f\"Tipo di dato: {type(array_1d)}\")\n",
    "print(f\"L'array: {array_1d}\")"
   ]
  },
  {
   "cell_type": "markdown",
   "id": "b2675e99-8406-4f1e-ade6-dba1123afdcc",
   "metadata": {},
   "source": [
    " np.array():Questa funzione prende una sequenza (come una lista o una tupla) e la converte in un ndarray. Tutti gli elementi dell'array NumPy devono essere dello stesso tipo (es. tutti interi o tutti float), il che contribuisce alla sua efficienza.\n",
    "\n",
    "Output:\n",
    "\n",
    "Tipo di dato: <class 'numpy.ndarray'>\n",
    "L'array: [10 20 30 40 50]\n",
    "\n",
    "Gli array possono avere più dimensioni. Ad esempio, un array 2D è come una matrice o una tabella:"
   ]
  },
  {
   "cell_type": "code",
   "execution_count": 5,
   "id": "2879b0f5-685c-4b66-b646-1f9967bd3079",
   "metadata": {},
   "outputs": [
    {
     "name": "stdout",
     "output_type": "stream",
     "text": [
      "[[1 2 3]\n",
      " [4 5 6]]\n"
     ]
    }
   ],
   "source": [
    "lista_2d = [[1, 2, 3], [4, 5, 6]]\n",
    "array_2d = np.array(lista_2d)\n",
    "\n",
    "print(array_2d)"
   ]
  },
  {
   "cell_type": "markdown",
   "id": "ba181e61-bf3f-43bc-bd44-592cd6749880",
   "metadata": {},
   "source": [
    "Output:\n",
    "\n",
    "[[1 2 3]\n",
    " [4 5 6]]\n",
    "\n",
    "4. Creare Array da Zero\n",
    "\n",
    "NumPy offre molti modi per creare array senza dover partire da una lista.\n",
    "\n",
    "    np.arange(start, stop, step): Simile alla funzione range() di Python.\n",
    "\n",
    "    np.zeros(shape): Crea un array pieno di zeri.\n",
    "\n",
    "    np.ones(shape): Crea un array pieno di uno.\n",
    "\n",
    "    np.linspace(start, stop, num): Crea un array con num valori equispaziati tra start e stop.\n",
    "\n",
    "    np.random.randint(low, high, size): Crea un array di interi casuali."
   ]
  },
  {
   "cell_type": "code",
   "execution_count": 6,
   "id": "807c4e13-4c06-4418-b351-2f5f45254061",
   "metadata": {},
   "outputs": [
    {
     "name": "stdout",
     "output_type": "stream",
     "text": [
      "[0 1 2 3 4 5 6 7 8 9]\n",
      "[[0. 0. 0.]\n",
      " [0. 0. 0.]]\n",
      "[0.   0.25 0.5  0.75 1.  ]\n"
     ]
    }
   ],
   "source": [
    "# Un array di 10 elementi, da 0 a 9\n",
    "arr_range = np.arange(10)\n",
    "\n",
    "# Una matrice 2x3 piena di zeri\n",
    "arr_zeros = np.zeros((2, 3))\n",
    "\n",
    "# Un array con 5 valori tra 0 e 1\n",
    "arr_linspace = np.linspace(0, 1, 5)\n",
    "\n",
    "print(arr_range)\n",
    "print(arr_zeros)\n",
    "print(arr_linspace)"
   ]
  },
  {
   "cell_type": "markdown",
   "id": "f7863d1f-d339-41c2-b1ae-d05f725ef846",
   "metadata": {},
   "source": [
    "5. Attributi degli Array: \n",
    "\n",
    "Possiamo ispezionare le proprietà di un array tramite i suoi attributi (senza parentesi).\n",
    "\n",
    "    .ndim: Numero di dimensioni (o \"assi\").\n",
    "\n",
    "    .shape: Una tupla che indica la dimensione dell'array per ogni asse (es. (righe, colonne)).\n",
    "\n",
    "    .size: Il numero totale di elementi nell'array.\n",
    "\n",
    "    .dtype: Il tipo di dato degli elementi (es. int64, float64)."
   ]
  },
  {
   "cell_type": "code",
   "execution_count": 7,
   "id": "7b5767c5-0de6-40be-b251-52c7a516a25f",
   "metadata": {},
   "outputs": [
    {
     "name": "stdout",
     "output_type": "stream",
     "text": [
      "Dimensioni: 2\n",
      "Forma: (2, 3)\n",
      "Numero elementi: 6\n",
      "Tipo di dato: int64\n"
     ]
    }
   ],
   "source": [
    "print(f\"Dimensioni: {array_2d.ndim}\")      # Output: 2\n",
    "print(f\"Forma: {array_2d.shape}\")          # Output: (2, 3)\n",
    "print(f\"Numero elementi: {array_2d.size}\") # Output: 6\n",
    "print(f\"Tipo di dato: {array_2d.dtype}\")    # Output: int64 (dipende dal sistema)"
   ]
  },
  {
   "cell_type": "markdown",
   "id": "01dee0f0-2c37-470d-a692-1c9aa027e130",
   "metadata": {},
   "source": [
    "6. Operazioni Vettorializzate: \n",
    "\n",
    "Questa è la caratteristica più potente di NumPy. Invece di usare un ciclo for per applicare un'operazione a ogni elemento, con NumPy possiamo applicarla direttamente all'intero array. Questa si chiama vettorializzazione."
   ]
  },
  {
   "cell_type": "code",
   "execution_count": 8,
   "id": "938bcf41-ddca-4505-8fa3-5459edac3468",
   "metadata": {},
   "outputs": [
    {
     "name": "stdout",
     "output_type": "stream",
     "text": [
      "Con ciclo for: [2, 4, 6, 8]\n",
      "Con NumPy: [2 4 6 8]\n"
     ]
    }
   ],
   "source": [
    "valori = np.array([1, 2, 3, 4])\n",
    "\n",
    "# SENZA NumPy (usando un ciclo for)\n",
    "risultato_lista = []\n",
    "for v in valori.tolist():\n",
    "    risultato_lista.append(v * 2)\n",
    "\n",
    "# CON NumPy (operazione vettorializzata)\n",
    "risultato_numpy = valori * 2\n",
    "\n",
    "print(f\"Con ciclo for: {risultato_lista}\")\n",
    "print(f\"Con NumPy: {risultato_numpy}\")"
   ]
  },
  {
   "cell_type": "markdown",
   "id": "4f6d46f4-e830-41b8-8b78-f493d1ee1372",
   "metadata": {},
   "source": [
    "NumPy applica l'operazione (* 2) a ogni elemento dell'array valori simultaneamente a un livello di codice C molto ottimizzato, eliminando la necessità di un ciclo esplicito in Python e aumentando drasticamente la velocità. Questo vale per tutte le operazioni matematiche (+, -, *, /, **, etc.).\n",
    "7. Selezionare e Filtrare Dati (Indexing e Slicing)\n",
    "\n",
    "Selezionare elementi da un array NumPy è simile a farlo con le liste, ma con più potenza.\n",
    "\n",
    "    Indexing 1D: arr[5]\n",
    "\n",
    "    Indexing 2D: arr[riga, colonna]\n",
    "\n",
    "    Slicing: arr[start:stop:step]"
   ]
  },
  {
   "cell_type": "code",
   "execution_count": 12,
   "id": "0a7f4afc-28a6-4630-a011-eb245ccf2ab0",
   "metadata": {},
   "outputs": [
    {
     "name": "stdout",
     "output_type": "stream",
     "text": [
      "[1 2 3 4]\n",
      "2\n",
      "[4 5 6]\n",
      "[3 6 9]\n"
     ]
    }
   ],
   "source": [
    "arr = np.arange(10) # [0, 1, 2, 3, 4, 5, 6, 7, 8, 9]\n",
    "\n",
    "# Slicing: dal secondo al quinto elemento\n",
    "slice_1d = arr[1:5] # Output: [1 2 3 4]\n",
    "print(slice_1d)\n",
    "\n",
    "arr2d = np.array([[1, 2, 3], [4, 5, 6], [7, 8, 9]])\n",
    "\n",
    "# Elemento alla prima riga, seconda colonna\n",
    "elemento = arr2d[0, 1] # Output: 2\n",
    "print(elemento)\n",
    "\n",
    "# Intera seconda riga\n",
    "riga = arr2d[1, :] # Output: [4 5 6]\n",
    "print(riga)\n",
    "\n",
    "# Intera terza colonna\n",
    "colonna = arr2d[:, 2] # Output: [3 6 9]\n",
    "print(colonna)"
   ]
  },
  {
   "cell_type": "markdown",
   "id": "f3218dc8-44ab-4443-868f-e9ac5db1405d",
   "metadata": {},
   "source": [
    "Il boolean indexing (o indicizzazione booleana) è un modo per filtrare un array.\n",
    "\n",
    "Immagina di avere una lista della spesa (arr) e di voler selezionare solo le cose che hai segnato con \"Sì\" su una lista di controllo (True/False).\n",
    "\n",
    "Funziona in due semplici passaggi:\n",
    "\n",
    "Crei un \"filtro\" (la maschera): Fai una domanda all'array, ad esempio \"quali numeri sono maggiori di 5?\" (arr > 5). NumPy ti risponde con un nuovo array fatto solo di True (sì) e False (no).\n",
    "\n",
    "Applichi il filtro: Usi questo array di True/False per dire all'array originale: \"Dammi solo gli elementi dove il filtro dice True\".\n",
    "\n",
    "Esempio pratico\n",
    "\n",
    "Immagina di avere questo array: arr = np.array([10, 2, 8, 5])\n",
    "\n",
    "1. Crei il filtro\n",
    "\n",
    "Chiedi: \"Quali elementi sono maggiori di 5?\" filtro = (arr > 5)\n",
    "\n",
    "NumPy controlla ogni elemento e crea la \"maschera\" booleana: filtro ora è [True, False, True, False]\n",
    "\n",
    "10 > 5? Sì (True)\n",
    "\n",
    "2 > 5? No (False)\n",
    "\n",
    "8 > 5? Sì (True)\n",
    "\n",
    "5 > 5? No (False)\n",
    "\n",
    "2. Applichi il filtro\n",
    "\n",
    "Ora usi questo filtro sull'array originale: risultato = arr[filtro]  risultato = arr[ [True, False, True, False] ]\n",
    "\n",
    "NumPy ti restituisce un nuovo array prendendo solo gli elementi che corrispondono a True: risultato = [10, 8]\n",
    "\n",
    "In una sola riga, quello che hai fatto è: arr[arr > 5]\n",
    "\n",
    "In breve, è un modo per selezionare dati che soddisfano una certa condizione."
   ]
  },
  {
   "cell_type": "code",
   "execution_count": 13,
   "id": "b6dec14c-bbf8-4ecf-b06e-87514bdab454",
   "metadata": {},
   "outputs": [
    {
     "name": "stdout",
     "output_type": "stream",
     "text": [
      "[6 7 8 9]\n"
     ]
    }
   ],
   "source": [
    "# Selezionare solo i numeri maggiori di 5\n",
    "maggiori_di_5 = arr[arr > 5]\n",
    "print(maggiori_di_5) # Output: [6 7 8 9]"
   ]
  },
  {
   "cell_type": "markdown",
   "id": "1683c9fd-197a-4e82-b731-fc2fd5121116",
   "metadata": {},
   "source": [
    "8. Funzioni Matematiche e Statistiche\n",
    "\n",
    "NumPy è una miniera di funzioni matematiche (chiamate ufuncs, Universal Functions) e metodi di aggregazione.\n",
    "\n",
    "    Funzioni comuni: np.sqrt(), np.exp(), np.sin(), np.log()\n",
    "\n",
    "    Metodi di aggregazione: .sum(), .mean(), .max(), .min(), .std()"
   ]
  },
  {
   "cell_type": "code",
   "execution_count": 14,
   "id": "25a37ee9-33ad-4c12-a16e-580e740edda1",
   "metadata": {},
   "outputs": [
    {
     "name": "stdout",
     "output_type": "stream",
     "text": [
      "Radici quadrate: [0. 1. 2. 3. 4. 5.]\n",
      "Somma totale: 55\n",
      "Media: 9.166666666666666\n",
      "Valore massimo: 25\n"
     ]
    }
   ],
   "source": [
    "dati_stat = np.array([0, 1, 4, 9, 16, 25])\n",
    "\n",
    "radici = np.sqrt(dati_stat)\n",
    "print(f\"Radici quadrate: {radici}\")\n",
    "\n",
    "print(f\"Somma totale: {dati_stat.sum()}\")\n",
    "print(f\"Media: {dati_stat.mean()}\")\n",
    "print(f\"Valore massimo: {dati_stat.max()}\")"
   ]
  },
  {
   "cell_type": "markdown",
   "id": "7e7ecabc-f1ea-4174-a483-c5178d184424",
   "metadata": {},
   "source": [
    "9. Tabella Riepilogativa delle Funzioni Principali\n",
    "Funzione/Attributo \tDescrizione\n",
    "\n",
    "np.array(lista)\n",
    "\t\n",
    "\n",
    "Crea un array NumPy da una lista o altra sequenza.\n",
    "\n",
    "np.arange(start, stop)\n",
    "\t\n",
    "\n",
    "Crea un array con una sequenza di numeri.\n",
    "\n",
    "np.zeros(shape), np.ones(shape)\n",
    "\t\n",
    "\n",
    "Crea un array di zeri o uno, data una certa forma (shape).\n",
    "\n",
    "np.linspace(start, stop, num)\n",
    "\t\n",
    "\n",
    "Crea num punti equispaziati tra start e stop.\n",
    "\n",
    ".shape, .ndim, .size, .dtype\n",
    "\t\n",
    "\n",
    "Attributi per ispezionare la forma, le dimensioni, la grandezza e il tipo dell'array.\n",
    "\n",
    "+, -, *, /\n",
    "\t\n",
    "\n",
    "Operazioni aritmetiche vettorializzate (elemento per elemento).\n",
    "[10, 20, 30, 40, 50]\n",
    "arr[condizione]\n",
    "\t\n",
    "\n",
    "# Creiamo un array NumPy da questa lista\n",
    "\n",
    "Filtro booleano: seleziona elementi che soddisfano una condizione.\n",
    "\n",
    "np.sqrt(), np.sin()\n",
    "\t\n",
    "\n",
    "Funzioni matematiche universali (ufuncs).\n",
    "\n",
    ".sum(), .mean(), .max()\n",
    "\t\n",
    "\n",
    "Metodi di aggregazione per calcolare statistiche sull'array.\n",
    "\n",
    ".reshape(new_shape)\n",
    "\t\n",
    "\n",
    "Rimodella un array in una nuova forma (es. da 1D a 2D) senza cambiarne i dati."
   ]
  }
 ],
 "metadata": {
  "kernelspec": {
   "display_name": "Python 3 (ipykernel)",
   "language": "python",
   "name": "python3"
  },
  "language_info": {
   "codemirror_mode": {
    "name": "ipython",
    "version": 3
   },
   "file_extension": ".py",
   "mimetype": "text/x-python",
   "name": "python",
   "nbconvert_exporter": "python",
   "pygments_lexer": "ipython3",
   "version": "3.13.7"
  }
 },
 "nbformat": 4,
 "nbformat_minor": 5
}
